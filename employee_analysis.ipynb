{
 "cells": [
  {
   "cell_type": "code",
   "execution_count": 1,
   "metadata": {},
   "outputs": [],
   "source": [
    "import tweepy\n",
    "import pandas as pd"
   ]
  },
  {
   "cell_type": "code",
   "execution_count": 2,
   "metadata": {},
   "outputs": [],
   "source": [
    "# API Key setup\n",
    "api_key = 'XLrT4TY4C8ZdIFQOMri1QX6Cc'\n",
    "api_secret_key = 'nFdnp9YT30Omojj9JZdtqD6j6qKP6vvuo65FjLOt6Fe0eotwpZ'\n",
    "access_token = '3083368926-c7fXpsH0k1Hrqs6bNe7954RMMp7viwgK7paRuHX'\n",
    "access_token_secret = 'bTTr0tiF4Xizcnjj7gGS1efzhSN5Co8Cgcc0P1cHjMXeF'\n",
    "# Bearer token from Twitter API v2\n",
    "bearer_token = 'AAAAAAAAAAAAAAAAAAAAAJttvwEAAAAAve3ZMFPG3IVh5poNuakDQUxLo%2Fw%3DcdUn78VL26nE15hTVzu9hjKEl1raNd8xRnvL00uVVloJABXMSD'"
   ]
  },
  {
   "cell_type": "code",
   "execution_count": 3,
   "metadata": {},
   "outputs": [],
   "source": [
    "# Authenticate to Twitter\n",
    "auth = tweepy.OAuthHandler(api_key, api_secret_key)\n",
    "auth.set_access_token(access_token, access_token_secret)\n",
    "api = tweepy.API(auth)"
   ]
  },
  {
   "cell_type": "code",
   "execution_count": 4,
   "metadata": {},
   "outputs": [
    {
     "name": "stdout",
     "output_type": "stream",
     "text": [
      "                  Timestamp            Author_ID  \\\n",
      "0 2024-10-06 11:00:33+00:00            360220091   \n",
      "1 2024-10-06 10:54:32+00:00           1574757961   \n",
      "2 2024-10-06 10:52:21+00:00  1419755916094853122   \n",
      "3 2024-10-06 10:49:33+00:00  1081362021948506117   \n",
      "4 2024-10-06 10:47:04+00:00           4689967196   \n",
      "\n",
      "                                               Tweet  \n",
      "0  Low pay, high staff turnover and employee burn...  \n",
      "1  @JustMariner @airindia Yes, it can if only it ...  \n",
      "2  @Maceroni2000 @rtenews That’s the story that’s...  \n",
      "3  RT @aiboc_in: 5-Day Work Week: A Standard for ...  \n",
      "4  RT @ProfCong: As the tragic death of young Ann...  \n"
     ]
    }
   ],
   "source": [
    "import tweepy\n",
    "import logging\n",
    "\n",
    "# Create client for Twitter API v2\n",
    "client = tweepy.Client(bearer_token=bearer_token)\n",
    "\n",
    "# Query tweets using the v2 API\n",
    "query = 'attrition risk OR employee turnover OR workplace stress OR HR issues lang:en'\n",
    "response = client.search_recent_tweets(query=query, tweet_fields=['created_at', 'author_id', 'text'], max_results=100)\n",
    "\n",
    "# Store tweet details in a DataFrame\n",
    "tweet_data = []\n",
    "for tweet in response.data:\n",
    "    tweet_data.append([tweet.created_at, tweet.author_id, tweet.text])\n",
    "\n",
    "df_tweets = pd.DataFrame(tweet_data, columns=['Timestamp', 'Author_ID', 'Tweet'])\n",
    "\n",
    "# Display first few rows\n",
    "print(df_tweets.head())\n"
   ]
  },
  {
   "cell_type": "code",
   "execution_count": 5,
   "metadata": {},
   "outputs": [
    {
     "name": "stdout",
     "output_type": "stream",
     "text": [
      "                                               Tweet  \\\n",
      "0  Low pay, high staff turnover and employee burn...   \n",
      "1  @JustMariner @airindia Yes, it can if only it ...   \n",
      "2  @Maceroni2000 @rtenews That’s the story that’s...   \n",
      "3  RT @aiboc_in: 5-Day Work Week: A Standard for ...   \n",
      "4  RT @ProfCong: As the tragic death of young Ann...   \n",
      "\n",
      "                                       Cleaned_Tweet  \n",
      "0  low pay high staff turnover and employee burno...  \n",
      "1  yes it can if only it tries to find out why th...  \n",
      "2  thats the story thats not being discussed howe...  \n",
      "3  rt  day work week a standard for productivity ...  \n",
      "4  rt  as the tragic death of young anna sebastia...  \n"
     ]
    }
   ],
   "source": [
    "import re\n",
    "\n",
    "def clean_tweet(text):\n",
    "    text = re.sub(r'http\\S+', '', text)  # Remove URLs\n",
    "    text = re.sub(r'@\\w+', '', text)     # Remove mentions\n",
    "    text = re.sub(r'#', '', text)        # Remove hashtags\n",
    "    text = re.sub(r'[^A-Za-z\\s]', '', text)  # Remove special characters\n",
    "    return text.strip().lower()\n",
    "\n",
    "df_tweets['Cleaned_Tweet'] = df_tweets['Tweet'].apply(clean_tweet)\n",
    "print(df_tweets[['Tweet', 'Cleaned_Tweet']].head())\n"
   ]
  },
  {
   "cell_type": "code",
   "execution_count": 6,
   "metadata": {},
   "outputs": [
    {
     "name": "stderr",
     "output_type": "stream",
     "text": [
      "No model was supplied, defaulted to distilbert/distilbert-base-uncased-finetuned-sst-2-english and revision af0f99b (https://huggingface.co/distilbert/distilbert-base-uncased-finetuned-sst-2-english).\n",
      "Using a pipeline without specifying a model name and revision in production is not recommended.\n"
     ]
    },
    {
     "name": "stdout",
     "output_type": "stream",
     "text": [
      "WARNING:tensorflow:From c:\\Users\\hp\\AppData\\Local\\Programs\\Python\\Python312\\Lib\\site-packages\\tf_keras\\src\\losses.py:2976: The name tf.losses.sparse_softmax_cross_entropy is deprecated. Please use tf.compat.v1.losses.sparse_softmax_cross_entropy instead.\n",
      "\n"
     ]
    },
    {
     "name": "stderr",
     "output_type": "stream",
     "text": [
      "c:\\Users\\hp\\AppData\\Local\\Programs\\Python\\Python312\\Lib\\site-packages\\transformers\\tokenization_utils_base.py:1601: FutureWarning: `clean_up_tokenization_spaces` was not set. It will be set to `True` by default. This behavior will be depracted in transformers v4.45, and will be then set to `False` by default. For more details check this issue: https://github.com/huggingface/transformers/issues/31884\n",
      "  warnings.warn(\n"
     ]
    },
    {
     "name": "stdout",
     "output_type": "stream",
     "text": [
      "                                       Cleaned_Tweet Sentiment\n",
      "0  low pay high staff turnover and employee burno...  NEGATIVE\n",
      "1  yes it can if only it tries to find out why th...  NEGATIVE\n",
      "2  thats the story thats not being discussed howe...  NEGATIVE\n",
      "3  rt  day work week a standard for productivity ...  POSITIVE\n",
      "4  rt  as the tragic death of young anna sebastia...  NEGATIVE\n"
     ]
    }
   ],
   "source": [
    "from transformers import pipeline\n",
    "\n",
    "# Load sentiment-analysis pipeline\n",
    "sentiment_model = pipeline('sentiment-analysis')\n",
    "\n",
    "# Apply sentiment analysis\n",
    "df_tweets['Sentiment'] = df_tweets['Cleaned_Tweet'].apply(lambda tweet: sentiment_model(tweet)[0]['label'])\n",
    "\n",
    "print(df_tweets[['Cleaned_Tweet', 'Sentiment']].head())\n"
   ]
  },
  {
   "cell_type": "code",
   "execution_count": 7,
   "metadata": {},
   "outputs": [
    {
     "name": "stderr",
     "output_type": "stream",
     "text": [
      "C:\\Users\\hp\\AppData\\Local\\Temp\\ipykernel_6340\\472202984.py:9: FutureWarning: \n",
      "\n",
      "Passing `palette` without assigning `hue` is deprecated and will be removed in v0.14.0. Assign the `x` variable to `hue` and set `legend=False` for the same effect.\n",
      "\n",
      "  sns.barplot(x=sentiment_counts.index, y=sentiment_counts.values, palette='viridis')\n"
     ]
    },
    {
     "data": {
      "image/png": "[encoded data removed]",
      "text/plain": [
       "<Figure size 800x600 with 1 Axes>"
      ]
     },
     "metadata": {},
     "output_type": "display_data"
    }
   ],
   "source": [
    "import matplotlib.pyplot as plt\n",
    "import seaborn as sns\n",
    "\n",
    "# Count the sentiment occurrences\n",
    "sentiment_counts = df_tweets['Sentiment'].value_counts()\n",
    "\n",
    "# Plot the sentiment distribution\n",
    "plt.figure(figsize=(8, 6))\n",
    "sns.barplot(x=sentiment_counts.index, y=sentiment_counts.values, palette='viridis')\n",
    "plt.xlabel('Sentiment')\n",
    "plt.ylabel('Count')\n",
    "plt.title('Sentiment Distribution of Tweets')\n",
    "plt.show()\n"
   ]
  },
  {
   "cell_type": "code",
   "execution_count": 8,
   "metadata": {},
   "outputs": [],
   "source": [
    "from sklearn.feature_extraction.text import TfidfVectorizer\n",
    "\n",
    "# Initialize TF-IDF Vectorizer\n",
    "vectorizer = TfidfVectorizer(stop_words='english', max_features=500)\n",
    "X = vectorizer.fit_transform(df_tweets['Cleaned_Tweet'])\n",
    "\n",
    "# Convert to DataFrame\n",
    "df_features = pd.DataFrame(X.toarray(), columns=vectorizer.get_feature_names_out())\n"
   ]
  },
  {
   "cell_type": "code",
   "execution_count": 9,
   "metadata": {},
   "outputs": [
    {
     "name": "stdout",
     "output_type": "stream",
     "text": [
      "              precision    recall  f1-score   support\n",
      "\n",
      "    NEGATIVE       0.95      0.91      0.93        23\n",
      "    POSITIVE       0.75      0.86      0.80         7\n",
      "\n",
      "    accuracy                           0.90        30\n",
      "   macro avg       0.85      0.89      0.87        30\n",
      "weighted avg       0.91      0.90      0.90        30\n",
      "\n"
     ]
    }
   ],
   "source": [
    "from sklearn.model_selection import train_test_split\n",
    "from sklearn.ensemble import RandomForestClassifier\n",
    "from sklearn.metrics import classification_report\n",
    "\n",
    "# Assuming you have labels for training\n",
    "y = df_tweets['Sentiment'] \n",
    "\n",
    "# Split data\n",
    "X_train, X_test, y_train, y_test = train_test_split(df_features, y, test_size=0.3, random_state=42)\n",
    "\n",
    "# Train a Random Forest model\n",
    "model = RandomForestClassifier()\n",
    "model.fit(X_train, y_train)\n",
    "\n",
    "# Evaluate the model\n",
    "y_pred = model.predict(X_test)\n",
    "print(classification_report(y_test, y_pred))\n"
   ]
  },
  {
   "cell_type": "code",
   "execution_count": 10,
   "metadata": {},
   "outputs": [
    {
     "name": "stderr",
     "output_type": "stream",
     "text": [
      "INFO:root:Fetch time: 0.52 seconds\n",
      "INFO:root:Process time: 0.00 seconds\n",
      "INFO:root:Feature extraction time: 0.00 seconds\n",
      "INFO:root:Prediction time: 0.01 seconds\n"
     ]
    },
    {
     "name": "stdout",
     "output_type": "stream",
     "text": [
      "Tweet: Low pay, high staff turnover and employee burnout took a toll on social service nonprofits during the COVID-19 pandemic - https://t.co/YdpSEl06bg\n",
      "Prediction: NEGATIVE\n",
      "\n",
      "Tweet: @JustMariner @airindia Yes, it can if only it tries to find out why the attitude has been cropped. \n",
      "\n",
      "The 'Chalta hi' attitude comes from poor infrastructure, staff shortage, poor IT, bad HR practices and no attention to building the processes.\n",
      "\n",
      "Employees can't be blamed till one fixes these issues.\n",
      "Prediction: NEGATIVE\n",
      "\n",
      "Tweet: @Maceroni2000 @rtenews That’s the story that’s not being discussed. However it does appear as though the references were checked with an HR officer &amp; I think that’s where the issues arise\n",
      "Prediction: NEGATIVE\n",
      "\n",
      "Tweet: RT @aiboc_in: 5-Day Work Week: A Standard for Productivity, Growth &amp; Efficiency and a norm for ethical workplace.\n",
      "\n",
      "Across sectors globally,…\n",
      "Prediction: POSITIVE\n",
      "\n",
      "Tweet: RT @ProfCong: As the tragic death of young Anna Sebastian showed, office stress &amp; toxic workplaces are a serious issue for millions of work…\n",
      "Prediction: NEGATIVE\n",
      "\n",
      "Processed 5 tweets. Exiting...\n"
     ]
    }
   ],
   "source": [
    "import time\n",
    "import logging\n",
    "import pandas as pd\n",
    "\n",
    "# Set up logging\n",
    "logging.basicConfig(level=logging.INFO)\n",
    "logger = logging.getLogger()\n",
    "\n",
    "def process_tweets():\n",
    "    tweet_count = 0\n",
    "    max_tweets = 5\n",
    "    \n",
    "    while tweet_count < max_tweets:\n",
    "        start_time = time.time()\n",
    "        \n",
    "        try:\n",
    "            # Fetch new tweets\n",
    "            fetch_start = time.time()\n",
    "            response = client.search_recent_tweets(query=query, tweet_fields=['created_at', 'author_id', 'text'], max_results=10)\n",
    "            if response.data is None:\n",
    "                logger.warning(\"No tweets found.\")\n",
    "                time.sleep(60)  # Sleep and retry if no tweets\n",
    "                continue\n",
    "            fetch_time = time.time() - fetch_start\n",
    "            \n",
    "            # Process and clean tweets\n",
    "            process_start = time.time()\n",
    "            new_tweets = pd.DataFrame([[tweet.created_at, tweet.author_id, tweet.text] for tweet in response.data], columns=['Timestamp', 'Author_ID', 'Tweet'])\n",
    "            new_tweets['Cleaned_Tweet'] = new_tweets['Tweet'].apply(clean_tweet)\n",
    "            process_time = time.time() - process_start\n",
    "            \n",
    "            # Extract features\n",
    "            feature_start = time.time()\n",
    "            new_features = vectorizer.transform(new_tweets['Cleaned_Tweet'])\n",
    "            df_new_features = pd.DataFrame(new_features.toarray(), columns=vectorizer.get_feature_names_out())\n",
    "            feature_time = time.time() - feature_start\n",
    "            \n",
    "            # Predict attrition risk\n",
    "            predict_start = time.time()\n",
    "            predictions = model.predict(df_new_features)\n",
    "            predict_time = time.time() - predict_start\n",
    "            \n",
    "            # Output predictions and increment tweet_count\n",
    "            for tweet, prediction in zip(new_tweets['Tweet'], predictions):\n",
    "                if tweet_count < max_tweets:\n",
    "                    print(f\"Tweet: {tweet}\\nPrediction: {prediction}\\n\")\n",
    "                    tweet_count += 1\n",
    "                else:\n",
    "                    break\n",
    "            \n",
    "            # Log times\n",
    "            logger.info(f\"Fetch time: {fetch_time:.2f} seconds\")\n",
    "            logger.info(f\"Process time: {process_time:.2f} seconds\")\n",
    "            logger.info(f\"Feature extraction time: {feature_time:.2f} seconds\")\n",
    "            logger.info(f\"Prediction time: {predict_time:.2f} seconds\")\n",
    "        \n",
    "        except Exception as e:\n",
    "            logger.error(f\"An error occurred: {e}\")\n",
    "            break\n",
    "        \n",
    "        if tweet_count < max_tweets:\n",
    "            # Sleep for a while before fetching new tweets\n",
    "            time.sleep(60)  # Fetch new tweets every 1 minute\n",
    "    \n",
    "    print(\"Processed 5 tweets. Exiting...\")\n",
    "\n",
    "# Run the real-time processing function\n",
    "process_tweets()\n"
   ]
  },
  {
   "cell_type": "markdown",
   "metadata": {},
   "source": [
    "### Applying LLM --> GPT2"
   ]
  },
  {
   "cell_type": "code",
   "execution_count": 11,
   "metadata": {},
   "outputs": [
    {
     "name": "stderr",
     "output_type": "stream",
     "text": [
      "No model was supplied, defaulted to distilbert/distilbert-base-uncased-finetuned-sst-2-english and revision af0f99b (https://huggingface.co/distilbert/distilbert-base-uncased-finetuned-sst-2-english).\n",
      "Using a pipeline without specifying a model name and revision in production is not recommended.\n",
      "c:\\Users\\hp\\AppData\\Local\\Programs\\Python\\Python312\\Lib\\site-packages\\transformers\\tokenization_utils_base.py:1601: FutureWarning: `clean_up_tokenization_spaces` was not set. It will be set to `True` by default. This behavior will be depracted in transformers v4.45, and will be then set to `False` by default. For more details check this issue: https://github.com/huggingface/transformers/issues/31884\n",
      "  warnings.warn(\n"
     ]
    }
   ],
   "source": [
    "from transformers import pipeline\n",
    "\n",
    "# Initialize the sentiment-analysis pipeline\n",
    "sentiment_model = pipeline('sentiment-analysis')\n"
   ]
  },
  {
   "cell_type": "code",
   "execution_count": 12,
   "metadata": {},
   "outputs": [
    {
     "name": "stdout",
     "output_type": "stream",
     "text": [
      "                                       Cleaned_Tweet LLM_Sentiment\n",
      "0  low pay high staff turnover and employee burno...      NEGATIVE\n",
      "1  yes it can if only it tries to find out why th...      NEGATIVE\n",
      "2  thats the story thats not being discussed howe...      NEGATIVE\n",
      "3  rt  day work week a standard for productivity ...      POSITIVE\n",
      "4  rt  as the tragic death of young anna sebastia...      NEGATIVE\n"
     ]
    }
   ],
   "source": [
    "# Apply sentiment analysis using the LLM\n",
    "df_tweets['LLM_Sentiment'] = df_tweets['Cleaned_Tweet'].apply(lambda tweet: sentiment_model(tweet)[0]['label'])\n",
    "\n",
    "print(df_tweets[['Cleaned_Tweet', 'LLM_Sentiment']].head())\n"
   ]
  },
  {
   "cell_type": "code",
   "execution_count": 13,
   "metadata": {},
   "outputs": [
    {
     "name": "stderr",
     "output_type": "stream",
     "text": [
      "c:\\Users\\hp\\AppData\\Local\\Programs\\Python\\Python312\\Lib\\site-packages\\transformers\\tokenization_utils_base.py:1601: FutureWarning: `clean_up_tokenization_spaces` was not set. It will be set to `True` by default. This behavior will be depracted in transformers v4.45, and will be then set to `False` by default. For more details check this issue: https://github.com/huggingface/transformers/issues/31884\n",
      "  warnings.warn(\n"
     ]
    }
   ],
   "source": [
    "from transformers import GPT2Tokenizer, GPT2LMHeadModel\n",
    "\n",
    "# Initialize GPT-2 model and tokenizer\n",
    "tokenizer = GPT2Tokenizer.from_pretrained('gpt2')\n",
    "model = GPT2LMHeadModel.from_pretrained('gpt2')\n"
   ]
  },
  {
   "cell_type": "code",
   "execution_count": 21,
   "metadata": {},
   "outputs": [],
   "source": [
    "# def generate_topics(text, max_input_length=50, max_new_tokens=20):\n",
    "#     # Truncate the input text if it's longer than the max_input_length\n",
    "#     inputs = tokenizer.encode(text[:max_input_length], return_tensors='pt')\n",
    "    \n",
    "#     # Generate topics with a set number of new tokens\n",
    "#     outputs = model.generate(inputs, max_new_tokens=max_new_tokens, num_return_sequences=1)\n",
    "    \n",
    "#     return tokenizer.decode(outputs[0], skip_special_tokens=True)\n",
    "\n",
    "# # Apply topic generation to the cleaned tweets\n",
    "# df_tweets['Generated_Topics'] = df_tweets['Cleaned_Tweet'].apply(generate_topics)\n",
    "\n",
    "# # Display the results\n",
    "# print(df_tweets[['Cleaned_Tweet', 'Generated_Topics']].head())\n"
   ]
  },
  {
   "cell_type": "code",
   "execution_count": 23,
   "metadata": {},
   "outputs": [
    {
     "name": "stdout",
     "output_type": "stream",
     "text": [
      "                                       Cleaned_Tweet  \\\n",
      "0  low pay high staff turnover and employee burno...   \n",
      "1  yes it can if only it tries to find out why th...   \n",
      "2  thats the story thats not being discussed howe...   \n",
      "3  rt  day work week a standard for productivity ...   \n",
      "4  rt  as the tragic death of young anna sebastia...   \n",
      "\n",
      "                                    Generated_Topics  \n",
      "0  low pay high staff turnover and employee burno...  \n",
      "1  yes it can if only it tries to find out why th...  \n",
      "2  thats the story thats not being discussed howe...  \n",
      "3  rt  day work week a standard for productivity ...  \n",
      "4  rt  as the tragic death of young anna sebastia...  \n"
     ]
    }
   ],
   "source": [
    "# Set the tokenizer's pad_token to eos_token\n",
    "tokenizer.pad_token = tokenizer.eos_token\n",
    "\n",
    "def generate_topics(text, max_input_length=50, max_new_tokens=20):\n",
    "    if not text or len(text.strip()) == 0:  # Check if the text is empty\n",
    "        return \"No Content\"\n",
    "    \n",
    "    # Tokenize the input text, add attention mask, and truncate if needed\n",
    "    inputs = tokenizer(text, return_tensors='pt', padding='max_length', truncation=True, max_length=max_input_length)\n",
    "    \n",
    "    input_ids = inputs['input_ids']\n",
    "    attention_mask = inputs['attention_mask']\n",
    "\n",
    "    # Generate topics with a set number of new tokens, pass attention mask\n",
    "    outputs = model.generate(input_ids, \n",
    "                             attention_mask=attention_mask, \n",
    "                             max_new_tokens=max_new_tokens, \n",
    "                             pad_token_id=tokenizer.eos_token_id,\n",
    "                             num_return_sequences=1)\n",
    "    \n",
    "    return tokenizer.decode(outputs[0], skip_special_tokens=True)\n",
    "\n",
    "# Ensure no empty or NaN values in the 'Cleaned_Tweet' column\n",
    "df_tweets['Cleaned_Tweet'] = df_tweets['Cleaned_Tweet'].fillna(\"\")\n",
    "\n",
    "# Apply topic generation to the cleaned tweets\n",
    "df_tweets['Generated_Topics'] = df_tweets['Cleaned_Tweet'].apply(generate_topics)\n",
    "\n",
    "# Display the results\n",
    "print(df_tweets[['Cleaned_Tweet', 'Generated_Topics']].head())\n"
   ]
  },
  {
   "cell_type": "code",
   "execution_count": 15,
   "metadata": {},
   "outputs": [
    {
     "name": "stdout",
     "output_type": "stream",
     "text": [
      "Tweet: Low pay, high staff turnover and employee burnout took a toll on social service nonprofits during the COVID-19 pandemic - https://t.co/YdpSEl06bg\n",
      "LLM Sentiment: NEGATIVE\n",
      "\n",
      "Tweet: @JustMariner @airindia Yes, it can if only it tries to find out why the attitude has been cropped. \n",
      "\n",
      "The 'Chalta hi' attitude comes from poor infrastructure, staff shortage, poor IT, bad HR practices and no attention to building the processes.\n",
      "\n",
      "Employees can't be blamed till one fixes these issues.\n",
      "LLM Sentiment: NEGATIVE\n",
      "\n",
      "Tweet: @Maceroni2000 @rtenews That’s the story that’s not being discussed. However it does appear as though the references were checked with an HR officer &amp; I think that’s where the issues arise\n",
      "LLM Sentiment: NEGATIVE\n",
      "\n",
      "Tweet: RT @aiboc_in: 5-Day Work Week: A Standard for Productivity, Growth &amp; Efficiency and a norm for ethical workplace.\n",
      "\n",
      "Across sectors globally,…\n",
      "LLM Sentiment: POSITIVE\n",
      "\n",
      "Tweet: RT @ProfCong: As the tragic death of young Anna Sebastian showed, office stress &amp; toxic workplaces are a serious issue for millions of work…\n",
      "LLM Sentiment: NEGATIVE\n",
      "\n"
     ]
    }
   ],
   "source": [
    "def process_tweets_with_llm():\n",
    "    tweet_count = 0  # Counter for the number of tweets processed\n",
    "    \n",
    "    while tweet_count < 5:  # Loop until 5 tweets are processed\n",
    "        # Fetch new tweets\n",
    "        response = client.search_recent_tweets(query=query, tweet_fields=['created_at', 'author_id', 'text'], max_results=10)\n",
    "        \n",
    "        # Process and clean tweets\n",
    "        new_tweets = pd.DataFrame([[tweet.created_at, tweet.author_id, tweet.text] for tweet in response.data], columns=['Timestamp', 'Author_ID', 'Tweet'])\n",
    "        new_tweets['Cleaned_Tweet'] = new_tweets['Tweet'].apply(clean_tweet)\n",
    "        \n",
    "        # Apply LLM sentiment analysis\n",
    "        new_tweets['LLM_Sentiment'] = new_tweets['Cleaned_Tweet'].apply(lambda tweet: sentiment_model(tweet)[0]['label'])\n",
    "        \n",
    "        # Output results\n",
    "        for tweet, sentiment in zip(new_tweets['Tweet'], new_tweets['LLM_Sentiment']):\n",
    "            print(f\"Tweet: {tweet}\\nLLM Sentiment: {sentiment}\\n\")\n",
    "            tweet_count += 1\n",
    "            if tweet_count >= 5:\n",
    "                break\n",
    "        \n",
    "        # If 5 tweets have been printed, exit the loop\n",
    "        if tweet_count >= 5:\n",
    "            break\n",
    "\n",
    "# Run the real-time processing function with LLM\n",
    "process_tweets_with_llm()"
   ]
  },
  {
   "cell_type": "code",
   "execution_count": 17,
   "metadata": {},
   "outputs": [],
   "source": [
    "import os\n",
    "from transformers import AutoTokenizer, AutoModelForCausalLM\n",
    "\n",
    "# Define test paths\n",
    "test_tokenizer_path = r'C:\\temp\\tokenizer'\n",
    "test_model_path = r'C:\\temp\\model'\n",
    "\n",
    "# Create test directories\n",
    "os.makedirs(test_tokenizer_path, exist_ok=True)\n",
    "os.makedirs(test_model_path, exist_ok=True)\n",
    "\n",
    "# Save the tokenizer and model to the test directories\n",
    "tokenizer.save_pretrained(test_tokenizer_path)\n",
    "model.save_pretrained(test_model_path)\n"
   ]
  },
  {
   "cell_type": "markdown",
   "metadata": {},
   "source": [
    "Part 2: Predictive Models for Skillsets\n"
   ]
  },
  {
   "cell_type": "code",
   "execution_count": 36,
   "metadata": {},
   "outputs": [
    {
     "name": "stdout",
     "output_type": "stream",
     "text": [
      "                  Timestamp            Author_ID  \\\n",
      "0 2024-10-06 11:31:39+00:00  1682698398816927745   \n",
      "1 2024-10-06 11:31:34+00:00  1170003237849616385   \n",
      "2 2024-10-06 11:31:29+00:00  1819801514925494272   \n",
      "3 2024-10-06 11:30:41+00:00  1674839832340594704   \n",
      "4 2024-10-06 11:29:49+00:00  1812607915670327296   \n",
      "\n",
      "                                               Tweet  \n",
      "0  RT @lustingforlala: We are hiring !!!! 🫣 https...  \n",
      "1  RT @lustingforlala: We are hiring !!!! 🫣 https...  \n",
      "2  RT @TheMonsterApp: 🔥Monster app is recruiting ...  \n",
      "3  RT @lustingforlala: We are hiring !!!! 🫣 https...  \n",
      "4  RT @lustingforlala: We are hiring !!!! 🫣 https...  \n"
     ]
    }
   ],
   "source": [
    "import tweepy\n",
    "import logging\n",
    "\n",
    "# Create client for Twitter API v2\n",
    "client = tweepy.Client(bearer_token=bearer_token)\n",
    "\n",
    "# Query tweets using the v2 API\n",
    "query = '(\"skills required\" OR \"we are hiring\" OR \"job opening\" OR \"looking for developers with skills\") lang:en'\n",
    "response = client.search_recent_tweets(query=query, tweet_fields=['created_at', 'author_id', 'text'], max_results=100)\n",
    "\n",
    "# Store tweet details in a DataFrame\n",
    "tweet_data = []\n",
    "for tweet in response.data:\n",
    "    tweet_data.append([tweet.created_at, tweet.author_id, tweet.text])\n",
    "\n",
    "df_tweets = pd.DataFrame(tweet_data, columns=['Timestamp', 'Author_ID', 'Tweet'])\n",
    "\n",
    "# Display first few rows\n",
    "print(df_tweets.head())\n"
   ]
  },
  {
   "cell_type": "code",
   "execution_count": 41,
   "metadata": {},
   "outputs": [
    {
     "name": "stderr",
     "output_type": "stream",
     "text": [
      "[nltk_data] Downloading package punkt to\n",
      "[nltk_data]     C:\\Users\\hp\\AppData\\Roaming\\nltk_data...\n",
      "[nltk_data]   Package punkt is already up-to-date!\n",
      "[nltk_data] Downloading package stopwords to\n",
      "[nltk_data]     C:\\Users\\hp\\AppData\\Roaming\\nltk_data...\n",
      "[nltk_data]   Package stopwords is already up-to-date!\n"
     ]
    }
   ],
   "source": [
    "import pandas as pd\n",
    "import numpy as np\n",
    "import re\n",
    "import nltk\n",
    "from nltk.corpus import stopwords\n",
    "from nltk.tokenize import word_tokenize\n",
    "\n",
    "# Ensure you have downloaded the required NLTK resources\n",
    "nltk.download('punkt')\n",
    "nltk.download('stopwords')\n",
    "\n",
    "# Sample function to clean and preprocess text\n",
    "def preprocess_text(text):\n",
    "    # Lowercase the text\n",
    "    text = text.lower()\n",
    "    # Remove special characters and numbers\n",
    "    text = re.sub(r'[^a-z\\s]', '', text)\n",
    "    # Tokenization\n",
    "    tokens = word_tokenize(text)\n",
    "    # Remove stop words\n",
    "    stop_words = set(stopwords.words('english'))\n",
    "    tokens = [word for word in tokens if word not in stop_words]\n",
    "    return tokens\n",
    "\n",
    "# Example DataFrame\n",
    "data = pd.DataFrame({\n",
    "    'job_descriptions': [\n",
    "        \"Data Analyst with expertise in Python, SQL, and data analysis.\",\n",
    "        \"Machine Learning Engineer: Python, SQL, and data modeling required.\",\n",
    "        \"Looking for a Data Scientist with skills in Python, pandas, numpy, and machine learning.\",\n",
    "        \"Job requires Tableau experience and data visualization skills.\"\n",
    "    ]\n",
    "})\n",
    "\n",
    "# Apply preprocessing\n",
    "data['processed'] = data['job_descriptions'].apply(preprocess_text)\n"
   ]
  },
  {
   "cell_type": "code",
   "execution_count": 42,
   "metadata": {},
   "outputs": [
    {
     "name": "stdout",
     "output_type": "stream",
     "text": [
      "['analysis' 'analyst' 'data' 'engineer' 'experience' 'expertise' 'job'\n",
      " 'learning' 'looking' 'machine' 'modeling' 'numpy' 'pandas' 'python'\n",
      " 'required' 'requires' 'scientist' 'skills' 'sql' 'tableau'\n",
      " 'visualization']\n"
     ]
    }
   ],
   "source": [
    "from sklearn.feature_extraction.text import CountVectorizer\n",
    "\n",
    "# Join tokens back into strings for vectorization\n",
    "data['processed_str'] = data['processed'].apply(lambda x: ' '.join(x))\n",
    "\n",
    "# Create a CountVectorizer to transform the text into a matrix of token counts\n",
    "vectorizer = CountVectorizer()\n",
    "X = vectorizer.fit_transform(data['processed_str'])\n",
    "\n",
    "# View the feature names (words)\n",
    "print(vectorizer.get_feature_names_out())\n"
   ]
  },
  {
   "cell_type": "code",
   "execution_count": 43,
   "metadata": {},
   "outputs": [],
   "source": [
    "from sklearn.cluster import KMeans\n",
    "\n",
    "# Choosing the number of clusters\n",
    "num_clusters = 4  # Adjust as necessary\n",
    "kmeans = KMeans(n_clusters=num_clusters, random_state=42)\n",
    "kmeans.fit(X)\n",
    "\n",
    "# Assign clusters back to the original DataFrame\n",
    "data['cluster'] = kmeans.labels_\n"
   ]
  },
  {
   "cell_type": "code",
   "execution_count": 44,
   "metadata": {},
   "outputs": [
    {
     "name": "stdout",
     "output_type": "stream",
     "text": [
      "Cluster 0:\n",
      "Top terms: ['modeling', 'learning', 'sql', 'data', 'engineer', 'required', 'python', 'machine', 'analyst', 'experience']\n",
      "Cluster 1:\n",
      "Top terms: ['visualization', 'skills', 'data', 'requires', 'experience', 'job', 'tableau', 'looking', 'analyst', 'engineer']\n",
      "Cluster 2:\n",
      "Top terms: ['data', 'analysis', 'sql', 'analyst', 'python', 'expertise', 'looking', 'engineer', 'experience', 'job']\n",
      "Cluster 3:\n",
      "Top terms: ['skills', 'scientist', 'data', 'python', 'pandas', 'numpy', 'machine', 'looking', 'learning', 'visualization']\n"
     ]
    }
   ],
   "source": [
    "# Function to display top terms for each cluster\n",
    "def display_cluster_terms(model, vectorizer, num_words=10):\n",
    "    order_centroids = model.cluster_centers_.argsort()[:, ::-1]\n",
    "    terms = vectorizer.get_feature_names_out()\n",
    "    \n",
    "    for i in range(num_clusters):\n",
    "        print(f\"Cluster {i}:\")\n",
    "        top_terms = [terms[ind] for ind in order_centroids[i, :num_words]]\n",
    "        print(\"Top terms:\", top_terms)\n",
    "\n",
    "# Display the cluster terms\n",
    "display_cluster_terms(kmeans, vectorizer)\n"
   ]
  },
  {
   "cell_type": "code",
   "execution_count": 45,
   "metadata": {},
   "outputs": [
    {
     "data": {
      "image/png": "[encoded data removed]",
      "text/plain": [
       "<Figure size 1000x400 with 1 Axes>"
      ]
     },
     "metadata": {},
     "output_type": "display_data"
    },
    {
     "data": {
      "image/png": "[encoded data removed]",
      "text/plain": [
       "<Figure size 1000x400 with 1 Axes>"
      ]
     },
     "metadata": {},
     "output_type": "display_data"
    },
    {
     "data": {
      "image/png": "[encoded data removed]",
      "text/plain": [
       "<Figure size 1000x400 with 1 Axes>"
      ]
     },
     "metadata": {},
     "output_type": "display_data"
    },
    {
     "data": {
      "image/png": "[encoded data removed]",
      "text/plain": [
       "<Figure size 1000x400 with 1 Axes>"
      ]
     },
     "metadata": {},
     "output_type": "display_data"
    }
   ],
   "source": [
    "import matplotlib.pyplot as plt\n",
    "import seaborn as sns\n",
    "\n",
    "# Example: Bar plot for the top terms in each cluster\n",
    "cluster_terms = {\n",
    "    0: ['modeling', 'learning', 'sql', 'data', 'engineer'],\n",
    "    1: ['visualization', 'skills', 'data', 'requires', 'experience'],\n",
    "    2: ['data', 'analysis', 'sql', 'analyst', 'python'],\n",
    "    3: ['skills', 'scientist', 'data', 'python', 'pandas'],\n",
    "}\n",
    "\n",
    "for cluster, terms in cluster_terms.items():\n",
    "    plt.figure(figsize=(10, 4))\n",
    "    sns.barplot(x=terms, y=[1]*len(terms))\n",
    "    plt.title(f'Top Terms in Cluster {cluster}')\n",
    "    plt.xlabel('Terms')\n",
    "    plt.ylabel('Frequency')\n",
    "    plt.show()\n"
   ]
  },
  {
   "cell_type": "code",
   "execution_count": 54,
   "metadata": {},
   "outputs": [
    {
     "name": "stdout",
     "output_type": "stream",
     "text": [
      "['analysis' 'analyst' 'data' 'engineer' 'experience' 'expertise' 'job'\n",
      " 'learning' 'looking' 'machine' 'modeling' 'numpy' 'pandas' 'python'\n",
      " 'required' 'requires' 'scientist' 'skills' 'sql' 'tableau'\n",
      " 'visualization']\n",
      "Cluster 0:\n",
      "Top terms: ['modeling', 'learning', 'sql', 'data', 'engineer', 'required', 'python', 'machine', 'analyst', 'experience']\n",
      "Cluster 1:\n",
      "Top terms: ['visualization', 'skills', 'data', 'requires', 'experience', 'job', 'tableau', 'looking', 'analyst', 'engineer']\n",
      "Cluster 2:\n",
      "Top terms: ['data', 'analysis', 'sql', 'analyst', 'python', 'expertise', 'looking', 'engineer', 'experience', 'job']\n",
      "Cluster 3:\n",
      "Top terms: ['skills', 'scientist', 'data', 'python', 'pandas', 'numpy', 'machine', 'looking', 'learning', 'visualization']\n",
      "Model and vectorizer saved successfully.\n"
     ]
    }
   ],
   "source": [
    "import joblib  # Library to save the model\n",
    "import logging\n",
    "\n",
    "# Example DataFrame with job descriptions (can be combined with tweet text)\n",
    "data = pd.DataFrame({\n",
    "    'job_descriptions': [\n",
    "        \"Data Analyst with expertise in Python, SQL, and data analysis.\",\n",
    "        \"Machine Learning Engineer: Python, SQL, and data modeling required.\",\n",
    "        \"Looking for a Data Scientist with skills in Python, pandas, numpy, and machine learning.\",\n",
    "        \"Job requires Tableau experience and data visualization skills.\"\n",
    "    ]\n",
    "})\n",
    "\n",
    "# Apply preprocessing\n",
    "data['processed'] = data['job_descriptions'].apply(preprocess_text)\n",
    "\n",
    "# Join tokens back into strings for vectorization\n",
    "data['processed_str'] = data['processed'].apply(lambda x: ' '.join(x))\n",
    "\n",
    "# Create a CountVectorizer to transform the text into a matrix of token counts\n",
    "vectorizer = CountVectorizer()\n",
    "X = vectorizer.fit_transform(data['processed_str'])\n",
    "\n",
    "# View the feature names (words)\n",
    "print(vectorizer.get_feature_names_out())\n",
    "\n",
    "# Choosing the number of clusters\n",
    "num_clusters = 4  # Adjust as necessary\n",
    "kmeans = KMeans(n_clusters=num_clusters, random_state=42)\n",
    "kmeans.fit(X)\n",
    "\n",
    "# Assign clusters back to the original DataFrame\n",
    "data['cluster'] = kmeans.labels_\n",
    "\n",
    "# Function to display top terms for each cluster\n",
    "def display_cluster_terms(model, vectorizer, num_words=10):\n",
    "    order_centroids = model.cluster_centers_.argsort()[:, ::-1]\n",
    "    terms = vectorizer.get_feature_names_out()\n",
    "    \n",
    "    for i in range(num_clusters):\n",
    "        print(f\"Cluster {i}:\")\n",
    "        top_terms = [terms[ind] for ind in order_centroids[i, :num_words]]\n",
    "        print(\"Top terms:\", top_terms)\n",
    "\n",
    "# Display the cluster terms\n",
    "display_cluster_terms(kmeans, vectorizer)\n",
    "\n",
    "# Save the trained model and vectorizer\n",
    "joblib.dump(kmeans, r'C:\\temp\\kmeans_model.joblib')\n",
    "joblib.dump(vectorizer, r'C:\\temp\\vectorizer.joblib')\n",
    "\n",
    "\n",
    "print(\"Model and vectorizer saved successfully.\")"
   ]
  }
 ],
 "metadata": {
  "kernelspec": {
   "display_name": "Python 3",
   "language": "python",
   "name": "python3"
  },
  "language_info": {
   "codemirror_mode": {
    "name": "ipython",
    "version": 3
   },
   "file_extension": ".py",
   "mimetype": "text/x-python",
   "name": "python",
   "nbconvert_exporter": "python",
   "pygments_lexer": "ipython3",
   "version": "3.12.4"
  }
 },
 "nbformat": 4,
 "nbformat_minor": 2
}
